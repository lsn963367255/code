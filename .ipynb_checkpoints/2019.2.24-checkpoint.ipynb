{
 "cells": [
  {
   "cell_type": "code",
   "execution_count": 1,
   "metadata": {},
   "outputs": [
    {
     "ename": "SyntaxError",
     "evalue": "invalid syntax (<ipython-input-1-57de9b30c98f>, line 2)",
     "output_type": "error",
     "traceback": [
      "\u001b[1;36m  File \u001b[1;32m\"<ipython-input-1-57de9b30c98f>\"\u001b[1;36m, line \u001b[1;32m2\u001b[0m\n\u001b[1;33m    infix = ''.join([c for in infix if c !=' '])\u001b[0m\n\u001b[1;37m                            ^\u001b[0m\n\u001b[1;31mSyntaxError\u001b[0m\u001b[1;31m:\u001b[0m invalid syntax\n"
     ]
    }
   ],
   "source": [
    "def infix_to_postfix(infix: str)->str:\n",
    "    infix = ''.join([c for in infix if c !=' '])\n",
    "    stk = []\n",
    "    out = ''\n",
    "    \n",
    "    for c in infix:\n",
    "        if c.isdigit():\n",
    "            out += c\n",
    "        elif c in '*/+-':\n",
    "            high_pre_op = '*/+-' if c in '+-' else '*/'\n",
    "            while stk and stk[-1] in high_pre_op:\n",
    "                out += stk.pop()\n",
    "            stk.append(c)\n",
    "        elif c == \"(\":\n",
    "            stk.append(c)\n",
    "        else:\n",
    "            while stk[-1] != '(':\n",
    "                out += stk.pop()\n",
    "            stk.pop()\n",
    "    while stk:\n",
    "        out += stk.pop()\n",
    "    \n",
    "    return out\n",
    "    \n",
    "    "
   ]
  },
  {
   "cell_type": "code",
   "execution_count": null,
   "metadata": {},
   "outputs": [],
   "source": [
    "infix_to_postfix(' 2 - ( 5 + 3 * 2 + 1 ) / 3')"
   ]
  },
  {
   "cell_type": "code",
   "execution_count": 4,
   "metadata": {},
   "outputs": [],
   "source": [
    "class Point():\n",
    "    def __init__(self,x,y):\n",
    "        self.x = x\n",
    "        self.y = y\n",
    "    \n",
    "    def __str__(self):\n",
    "        return str((self.x,self.y))\n",
    "    \n",
    "    def __repr__(self):\n",
    "        return 'Point' + str(self)"
   ]
  },
  {
   "cell_type": "code",
   "execution_count": 6,
   "metadata": {},
   "outputs": [
    {
     "name": "stdout",
     "output_type": "stream",
     "text": [
      "(1.0, 2.0)\n"
     ]
    },
    {
     "data": {
      "text/plain": [
       "Point(1.0, 2.0)"
      ]
     },
     "execution_count": 6,
     "metadata": {},
     "output_type": "execute_result"
    }
   ],
   "source": [
    "p = Point(1.0,2.0)\n",
    "print(p)\n",
    "p"
   ]
  },
  {
   "cell_type": "code",
   "execution_count": 15,
   "metadata": {},
   "outputs": [],
   "source": [
    "from collections import Counter\n",
    "\n",
    "def neighbors(cell):\n",
    "    (x,y) = cell\n",
    "    return[(x-1, y-1),(x, y-1),(x+1,y-1),\n",
    "            (x-1, y),           (x+1, y),\n",
    "            (x-1, y+1),(x, y+1),(x+1, y+1)]\n",
    "\n",
    "def neighbor_counts(world):\n",
    "    ''' A {cell: int} counter of number of live neighbours for each cell\n",
    "    '''\n",
    "    return Counter(nb for cell in world\n",
    "                  for nb in neighbors(cell))\n",
    "\n",
    "def next_generation(world):\n",
    "    possible_cells = counts = neighbor_counts(world)\n",
    "    return { cell for cell in possible_cells\n",
    "              if (counts[cell] == 3)\n",
    "              or (counts[cell] == 2 and cell in world)}"
   ]
  },
  {
   "cell_type": "code",
   "execution_count": 28,
   "metadata": {},
   "outputs": [],
   "source": [
    "import time\n",
    "from IPython.display import clear_output, display_html\n",
    "\n",
    "LIVE = 'o'\n",
    "EMPTY = '.'\n",
    "PAD = ' '\n",
    "\n",
    "def display_run(world, n=10,Xs = range(10),Ys = range(10),pause=0.2):\n",
    "    for g in range(n+1):\n",
    "        clear_output()\n",
    "        display_html('Generation {}, Population{} \\n{}'\n",
    "                     .format(g, len(world),pre(picture(world, Xs, Ys))),raw = True)\n",
    "        time.sleep(pause)\n",
    "        world = next_generation(world)\n",
    "\n",
    "def pre(text):return '<pre>' + text + '</pre>'\n",
    "\n",
    "def picture(world, Xs, Ys):\n",
    "    def row(y):\n",
    "        return PAD.join(LIVE if(x,y) in world else EMPTY for x in Xs)\n",
    "    return '\\n'.join(row(y) for y in Ys)"
   ]
  },
  {
   "cell_type": "code",
   "execution_count": 32,
   "metadata": {},
   "outputs": [],
   "source": [
    "world = {(3,4),(5,4),(5,5),(4,5),(4,6)}"
   ]
  },
  {
   "cell_type": "code",
   "execution_count": 33,
   "metadata": {},
   "outputs": [
    {
     "name": "stdout",
     "output_type": "stream",
     "text": [
      ". . . . . . . . . . . . . . .\n",
      ". . . . . . . . . . . . . . .\n",
      ". . . . . . . . . . . . . . .\n",
      ". . . . . . . . . . . . . . .\n",
      ". . . o . o . . . . . . . . .\n",
      ". . . . o o . . . . . . . . .\n",
      ". . . . o . . . . . . . . . .\n",
      ". . . . . . . . . . . . . . .\n",
      ". . . . . . . . . . . . . . .\n",
      ". . . . . . . . . . . . . . .\n",
      ". . . . . . . . . . . . . . .\n",
      ". . . . . . . . . . . . . . .\n",
      ". . . . . . . . . . . . . . .\n",
      ". . . . . . . . . . . . . . .\n",
      ". . . . . . . . . . . . . . .\n"
     ]
    }
   ],
   "source": [
    "print(picture(world,range(15),range(15)))"
   ]
  },
  {
   "cell_type": "code",
   "execution_count": null,
   "metadata": {},
   "outputs": [],
   "source": [
    "display_run(world,30,range(15),range(15))"
   ]
  }
 ],
 "metadata": {
  "kernelspec": {
   "display_name": "Python 3",
   "language": "python",
   "name": "python3"
  },
  "language_info": {
   "codemirror_mode": {
    "name": "ipython",
    "version": 3
   },
   "file_extension": ".py",
   "mimetype": "text/x-python",
   "name": "python",
   "nbconvert_exporter": "python",
   "pygments_lexer": "ipython3",
   "version": "3.7.1"
  }
 },
 "nbformat": 4,
 "nbformat_minor": 2
}
