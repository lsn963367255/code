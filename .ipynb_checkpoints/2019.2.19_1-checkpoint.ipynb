{
 "cells": [
  {
   "cell_type": "markdown",
   "metadata": {},
   "source": [
    "## 计算器"
   ]
  },
  {
   "cell_type": "code",
   "execution_count": null,
   "metadata": {},
   "outputs": [],
   "source": [
    "#add\n",
    "def add(x,y):\n",
    "    return x + y\n",
    "#subtract\n",
    "def subtract(x,y):\n",
    "    return x - y\n",
    "#multiplies\n",
    "def multiply(x,y):\n",
    "    return x * y\n",
    "def divide(x,y):\n",
    "    return x / y"
   ]
  },
  {
   "cell_type": "code",
   "execution_count": 3,
   "metadata": {},
   "outputs": [
    {
     "name": "stdout",
     "output_type": "stream",
     "text": [
      "How much do you have?10000\n",
      "第 1 年有 10500.0 元\n",
      "第 2 年有 11025.0 元\n",
      "第 3 年有 11576.25 元\n",
      "第 4 年有 12155.0625 元\n",
      "第 5 年有 12762.815625000001 元\n",
      "第 6 年有 13400.956406250001 元\n",
      "第 7 年有 14071.004226562502 元\n",
      "第 8 年有 14774.554437890627 元\n",
      "第 9 年有 15513.28215978516 元\n",
      "第 10 年有 16288.946267774418 元\n",
      "第 11 年有 17103.393581163138 元\n",
      "第 12 年有 17958.563260221297 元\n",
      "第 13 年有 18856.491423232364 元\n",
      "第 14 年有 19799.315994393983 元\n",
      "第 15 年有 20789.281794113682 元\n",
      "第 16 年有 21828.745883819367 元\n",
      "第 17 年有 22920.183178010335 元\n",
      "第 18 年有 24066.19233691085 元\n",
      "第 19 年有 25269.501953756397 元\n",
      "第 20 年有 26532.977051444217 元\n"
     ]
    }
   ],
   "source": [
    "rate = 0.05\n",
    "money = float(input('How much do you have?'))\n",
    "count = 0\n",
    "while count < 20:\n",
    "    money = money*(1+rate)\n",
    "    print(\"第\",count+1,\"年有\",money,\"元\")\n",
    "    count = count + 1\n"
   ]
  },
  {
   "cell_type": "code",
   "execution_count": 6,
   "metadata": {},
   "outputs": [
    {
     "name": "stdout",
     "output_type": "stream",
     "text": [
      "How much do you have?10000\n",
      "   1   10500.00\n",
      "   2   11025.00\n",
      "   3   11576.25\n",
      "   4   12155.06\n",
      "   5   12762.82\n",
      "   6   13400.96\n",
      "   7   14071.00\n",
      "   8   14774.55\n",
      "   9   15513.28\n",
      "  10   16288.95\n",
      "  11   17103.39\n",
      "  12   17958.56\n",
      "  13   18856.49\n",
      "  14   19799.32\n",
      "  15   20789.28\n",
      "  16   21828.75\n",
      "  17   22920.18\n",
      "  18   24066.19\n",
      "  19   25269.50\n",
      "  20   26532.98\n"
     ]
    }
   ],
   "source": [
    "rate = 0.05\n",
    "balance = float(input('How much do you have?'))\n",
    "for year in range(1,21):\n",
    "    interest = balance * rate\n",
    "    balance = balance + interest\n",
    "    print(\"%4d %10.2f\"% (year,balance))"
   ]
  },
  {
   "cell_type": "code",
   "execution_count": 10,
   "metadata": {},
   "outputs": [
    {
     "ename": "ModuleNotFoundError",
     "evalue": "No module named 'matpoltlib'",
     "output_type": "error",
     "traceback": [
      "\u001b[1;31m---------------------------------------------------------------------------\u001b[0m",
      "\u001b[1;31mModuleNotFoundError\u001b[0m                       Traceback (most recent call last)",
      "\u001b[1;32m<ipython-input-10-cd81a5e1601b>\u001b[0m in \u001b[0;36m<module>\u001b[1;34m\u001b[0m\n\u001b[0;32m      1\u001b[0m \u001b[1;32mfrom\u001b[0m \u001b[0mmatplotlib\u001b[0m \u001b[1;32mimport\u001b[0m \u001b[0mpylab\u001b[0m\u001b[1;33m\u001b[0m\u001b[1;33m\u001b[0m\u001b[0m\n\u001b[0;32m      2\u001b[0m \u001b[1;32mfrom\u001b[0m \u001b[0mpylab\u001b[0m \u001b[1;32mimport\u001b[0m \u001b[1;33m*\u001b[0m\u001b[1;33m\u001b[0m\u001b[1;33m\u001b[0m\u001b[0m\n\u001b[1;32m----> 3\u001b[1;33m \u001b[1;32mimport\u001b[0m \u001b[0mmatpoltlib\u001b[0m\u001b[1;33m.\u001b[0m\u001b[0mpyplot\u001b[0m \u001b[1;32mas\u001b[0m \u001b[0mplt\u001b[0m\u001b[1;33m\u001b[0m\u001b[1;33m\u001b[0m\u001b[0m\n\u001b[0m\u001b[0;32m      4\u001b[0m \u001b[0mfig\u001b[0m\u001b[1;33m,\u001b[0m \u001b[0max\u001b[0m \u001b[1;33m=\u001b[0m \u001b[0mplt\u001b[0m\u001b[1;33m.\u001b[0m\u001b[0msubplots\u001b[0m\u001b[1;33m(\u001b[0m\u001b[1;33m)\u001b[0m\u001b[1;33m\u001b[0m\u001b[1;33m\u001b[0m\u001b[0m\n\u001b[0;32m      5\u001b[0m \u001b[1;33m\u001b[0m\u001b[0m\n",
      "\u001b[1;31mModuleNotFoundError\u001b[0m: No module named 'matpoltlib'"
     ]
    }
   ],
   "source": [
    "import matpoltlib.pyplot as plt\n",
    "fig, ax = plt.subplots()\n",
    "\n",
    "ax.plot([i for i in range(1,20+1)],bal_records)\n",
    "ax.set(xlabel='n th year',ylabel='Money',title='How much I got')\n",
    "ax.grid()\n",
    "plt.show()"
   ]
  },
  {
   "cell_type": "code",
   "execution_count": 32,
   "metadata": {},
   "outputs": [
    {
     "name": "stdout",
     "output_type": "stream",
     "text": [
      "3.1415924535897797\n"
     ]
    }
   ],
   "source": [
    "answer = 0\n",
    "flag = 0\n",
    "for i in range(1,10000000):\n",
    "    if i % 2:\n",
    "         if flag == 0:\n",
    "            answer = answer + 1/i\n",
    "            flag = 1\n",
    "         else:\n",
    "            answer = answer - 1/i\n",
    "            flag = 0\n",
    "print(answer*4)\n",
    "\n",
    "        "
   ]
  },
  {
   "cell_type": "code",
   "execution_count": 33,
   "metadata": {},
   "outputs": [
    {
     "ename": "SyntaxError",
     "evalue": "invalid syntax (<ipython-input-33-46390e4fa27d>, line 24)",
     "output_type": "error",
     "traceback": [
      "\u001b[1;36m  File \u001b[1;32m\"<ipython-input-33-46390e4fa27d>\"\u001b[1;36m, line \u001b[1;32m24\u001b[0m\n\u001b[1;33m    print(\"fount unit \"unit[0])\u001b[0m\n\u001b[1;37m                          ^\u001b[0m\n\u001b[1;31mSyntaxError\u001b[0m\u001b[1;31m:\u001b[0m invalid syntax\n"
     ]
    }
   ],
   "source": [
    "def converter(value,category='length',from_unit='cm',to_unit='m'):\n",
    "    all_units = {'length':[['m',1],['cm',0.01],['in',0.0254]],\n",
    "                 'mass':[['kg',1],['g',0.001],['lb',0.4535924],['jin',0.5]],\n",
    "                 'volume':[['m3',1],['1',0.001],['cuyd',0.7645536]]}\n",
    "    \n",
    "    convert_value = None\n",
    "    \n",
    "    if category in all_units.keys():\n",
    "        units = all_units[category]\n",
    "        \n",
    "        found_two = 0\n",
    "        for unit in units:\n",
    "            if from_unit == unit[0]:\n",
    "                found_two += 1\n",
    "            if to_unit == unit[0]:\n",
    "                found_two += 1\n",
    "        if found_two != 2:\n",
    "            print(\"check your from and to unit\",found_two)\n",
    "            return convert_value\n",
    "        if from_unit != units[0][0]:\n",
    "            print(\"conver to base unit\")\n",
    "            for unit in units[1:]:\n",
    "                if from_unit == unit[0]:\n",
    "                    print(\"fount unit \"unit[0])\n",
    "                    convert_value = value * unit[1]\n",
    "                    print(\"conver to unit \",units[0][0],\"value is \",convert_value)\n",
    "        else:\n",
    "            convert_value = value\n",
    "        if convert_value:\n",
    "            print(\"from base unit to to_unit \",to_unit)\n",
    "            if to_unit == units[0][0]:\n",
    "                print(\"already base unit \",convert_value)\n",
    "                return convert_value\n",
    "            for unit in unit[1:]:\n",
    "                if to_unit == unit[0]:\n",
    "                    print(\"fount unit in to \",to_unit)\n",
    "                    convert_value = convert_value / unit[1]\n",
    "    return convert_value\n",
    "\n",
    "print(converter(10,'mass','g','kdg'))\n"
   ]
  }
 ],
 "metadata": {
  "kernelspec": {
   "display_name": "Python 3",
   "language": "python",
   "name": "python3"
  },
  "language_info": {
   "codemirror_mode": {
    "name": "ipython",
    "version": 3
   },
   "file_extension": ".py",
   "mimetype": "text/x-python",
   "name": "python",
   "nbconvert_exporter": "python",
   "pygments_lexer": "ipython3",
   "version": "3.7.1"
  }
 },
 "nbformat": 4,
 "nbformat_minor": 2
}
