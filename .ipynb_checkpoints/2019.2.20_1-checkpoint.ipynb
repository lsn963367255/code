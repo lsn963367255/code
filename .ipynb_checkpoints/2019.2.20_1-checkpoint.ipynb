{
 "cells": [
  {
   "cell_type": "code",
   "execution_count": null,
   "metadata": {},
   "outputs": [],
   "source": []
  },
  {
   "cell_type": "code",
   "execution_count": 6,
   "metadata": {},
   "outputs": [],
   "source": [
    "def find_max(l):\n",
    "    import time\n",
    "    start = time.time()\n",
    "    \n",
    "    if l == None:\n",
    "        return None\n",
    "    mx = l[0]\n",
    "    for n in l:\n",
    "        if n >mx:\n",
    "            mx = n\n",
    "    t = time.time() - start\n",
    "    \n",
    "    return mx,len(l),t"
   ]
  },
  {
   "cell_type": "code",
   "execution_count": 9,
   "metadata": {},
   "outputs": [
    {
     "data": {
      "text/plain": [
       "[(999, 100000, 0.004986763000488281),\n",
       " (999, 200000, 0.00997304916381836),\n",
       " (999, 300000, 0.01595759391784668),\n",
       " (999, 400000, 0.02094435691833496),\n",
       " (999, 500000, 0.027929306030273438),\n",
       " (999, 600000, 0.029934167861938477),\n",
       " (999, 700000, 0.021014690399169922),\n",
       " (999, 800000, 0.022237777709960938),\n",
       " (999, 900000, 0.02291083335876465),\n",
       " (999, 1000000, 0.02497243881225586),\n",
       " (999, 1100000, 0.028946876525878906),\n",
       " (999, 1200000, 0.0328826904296875),\n",
       " (999, 1300000, 0.03201866149902344),\n",
       " (999, 1400000, 0.03716230392456055),\n",
       " (999, 1500000, 0.03564119338989258),\n",
       " (999, 1600000, 0.03690195083618164),\n",
       " (999, 1700000, 0.038893938064575195),\n",
       " (999, 1800000, 0.04288649559020996),\n",
       " (999, 1900000, 0.04487776756286621)]"
      ]
     },
     "execution_count": 9,
     "metadata": {},
     "output_type": "execute_result"
    }
   ],
   "source": [
    "import random\n",
    "\n",
    "random_lists = [[int(1000*random.random()) for i in range(100000*n)]for n in range(1,20)]\n",
    "rst = [find_max(l) for l in random_lists]\n",
    "len(rst)\n",
    "rst\n"
   ]
  },
  {
   "cell_type": "code",
   "execution_count": 10,
   "metadata": {},
   "outputs": [
    {
     "data": {
      "text/plain": [
       "[<matplotlib.lines.Line2D at 0x19a4b2eb160>]"
      ]
     },
     "execution_count": 10,
     "metadata": {},
     "output_type": "execute_result"
    },
    {
     "data": {
      "image/png": "[encoded data removed]",
      "text/plain": [
       "<Figure size 432x288 with 1 Axes>"
      ]
     },
     "metadata": {
      "needs_background": "light"
     },
     "output_type": "display_data"
    }
   ],
   "source": [
    "import matplotlib.pyplot as plt\n",
    "%matplotlib inline\n",
    "\n",
    "x = list(zip(*rst))[1]\n",
    "y = list(zip(*rst))[2]\n",
    "\n",
    "plt.plot(x,y)"
   ]
  },
  {
   "cell_type": "code",
   "execution_count": 16,
   "metadata": {},
   "outputs": [
    {
     "name": "stdout",
     "output_type": "stream",
     "text": [
      "please input5\n",
      "0\n",
      "1\n",
      "1\n",
      "2\n",
      "3\n"
     ]
    }
   ],
   "source": [
    "a = 0\n",
    "b = 1\n",
    "n = input(\"please input\")\n",
    "for i in range(0,int(n)):\n",
    "    if i == 0:\n",
    "        print(i)\n",
    "    elif i == 1:\n",
    "        print(i)\n",
    "    else: \n",
    "        a,b = b,a+b\n",
    "        print(b)\n",
    "\n",
    "                \n",
    "        "
   ]
  },
  {
   "cell_type": "code",
   "execution_count": 1,
   "metadata": {},
   "outputs": [],
   "source": [
    "def fibonacci(n):\n",
    "    if n == 0:\n",
    "        return 0\n",
    "    elif n == 1:\n",
    "        return 1\n",
    "    else:\n",
    "        return fibonacci(n-1)+fibonacci(n-2)\n",
    "    \n"
   ]
  },
  {
   "cell_type": "code",
   "execution_count": 10,
   "metadata": {},
   "outputs": [
    {
     "name": "stdout",
     "output_type": "stream",
     "text": [
      "你想输入的长度为： 35\n",
      "1 0\n",
      "2 1\n",
      "3 1\n",
      "4 2\n",
      "5 3\n",
      "6 5\n",
      "7 8\n",
      "8 13\n",
      "9 21\n",
      "10 34\n",
      "11 55\n",
      "12 89\n",
      "13 144\n",
      "14 233\n",
      "15 377\n",
      "16 610\n",
      "17 987\n",
      "18 1597\n",
      "19 2584\n",
      "20 4181\n",
      "21 6765\n",
      "22 10946\n",
      "23 17711\n",
      "24 28657\n",
      "25 46368\n",
      "26 75025\n",
      "27 121393\n",
      "28 196418\n",
      "29 317811\n",
      "30 514229\n",
      "31 832040\n",
      "32 1346269\n",
      "33 2178309\n",
      "34 3524578\n",
      "35 5702887\n",
      "36 9227465\n"
     ]
    }
   ],
   "source": [
    "n = input(\"你想输入的长度为： \")\n",
    "for i in range(0,int(n)):\n",
    "    print(i+1,fibonacci(i))\n"
   ]
  },
  {
   "cell_type": "code",
   "execution_count": null,
   "metadata": {},
   "outputs": [],
   "source": []
  }
 ],
 "metadata": {
  "kernelspec": {
   "display_name": "Python 3",
   "language": "python",
   "name": "python3"
  },
  "language_info": {
   "codemirror_mode": {
    "name": "ipython",
    "version": 3
   },
   "file_extension": ".py",
   "mimetype": "text/x-python",
   "name": "python",
   "nbconvert_exporter": "python",
   "pygments_lexer": "ipython3",
   "version": "3.7.1"
  }
 },
 "nbformat": 4,
 "nbformat_minor": 2
}
