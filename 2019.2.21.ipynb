{
 "cells": [
  {
   "cell_type": "code",
   "execution_count": 7,
   "metadata": {},
   "outputs": [],
   "source": [
    "?spk"
   ]
  },
  {
   "cell_type": "code",
   "execution_count": 24,
   "metadata": {},
   "outputs": [
    {
     "data": {
      "text/plain": [
       "1"
      ]
     },
     "execution_count": 24,
     "metadata": {},
     "output_type": "execute_result"
    }
   ],
   "source": [
    "import win32com.client\n",
    "spk = win32com.client.Dispatch(\"SAPI.SpVoice\")\n",
    "a = 1\n",
    "spk.Speak(u\"老王真是老杂毛啊\")"
   ]
  },
  {
   "cell_type": "code",
   "execution_count": 19,
   "metadata": {},
   "outputs": [
    {
     "name": "stdout",
     "output_type": "stream",
     "text": [
      "Thread <_MainThread(MainThread, started 408464)> says\" I'm the main program\n",
      "Thread <Thread(Thread-6, started 419320)> says\" I'm function 0\n",
      "Thread <Thread(Thread-7, started 419328)> says\" I'm function 1\n",
      "Thread <Thread(Thread-8, started 419332)> says\" I'm function 2\n",
      "Thread <Thread(Thread-9, started 419336)> says\" I'm function 3\n"
     ]
    }
   ],
   "source": [
    "import threading\n",
    "\n",
    "def do_this(what):\n",
    "    whoami(what)\n",
    "\n",
    "def whoami(what):\n",
    "    print('Thread %s says\" %s' % (threading.current_thread(),what))\n",
    "    \n",
    "if __name__ == \"__main__\":\n",
    "    whoami(\"I'm the main program\")\n",
    "    for n in range(4):\n",
    "        p = threading.Thread(target = do_this,args = (\"I'm function %s\" % n,))\n",
    "        p.start()\n",
    "    \n",
    "        "
   ]
  }
 ],
 "metadata": {
  "kernelspec": {
   "display_name": "Python 3",
   "language": "python",
   "name": "python3"
  },
  "language_info": {
   "codemirror_mode": {
    "name": "ipython",
    "version": 3
   },
   "file_extension": ".py",
   "mimetype": "text/x-python",
   "name": "python",
   "nbconvert_exporter": "python",
   "pygments_lexer": "ipython3",
   "version": "3.7.1"
  }
 },
 "nbformat": 4,
 "nbformat_minor": 2
}
