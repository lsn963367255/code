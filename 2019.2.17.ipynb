{
 "cells": [
  {
   "cell_type": "code",
   "execution_count": 37,
   "metadata": {},
   "outputs": [],
   "source": [
    "from IPython.core.interactiveshell import InteractiveShell\n",
    "InteractiveShell.ast_node_interactivity = \"all\""
   ]
  },
  {
   "cell_type": "code",
   "execution_count": 16,
   "metadata": {
    "scrolled": false
   },
   "outputs": [
    {
     "name": "stdout",
     "output_type": "stream",
     "text": [
      "hello world! 你好世界！ Hola mundo!\n"
     ]
    }
   ],
   "source": [
    "print(\"hello world! 你好世界！ Hola mundo!\")"
   ]
  },
  {
   "cell_type": "code",
   "execution_count": 22,
   "metadata": {},
   "outputs": [
    {
     "data": {
      "text/plain": [
       "int"
      ]
     },
     "execution_count": 22,
     "metadata": {},
     "output_type": "execute_result"
    }
   ],
   "source": [
    "type(111)"
   ]
  },
  {
   "cell_type": "code",
   "execution_count": 32,
   "metadata": {},
   "outputs": [
    {
     "name": "stdout",
     "output_type": "stream",
     "text": [
      "Object `^` not found.\n"
     ]
    }
   ],
   "source": [
    "?^ "
   ]
  },
  {
   "cell_type": "code",
   "execution_count": 41,
   "metadata": {},
   "outputs": [
    {
     "name": "stdout",
     "output_type": "stream",
     "text": [
      "Please input your first number1\n",
      "Please input your second number2\n",
      "1 + 2 = 3\n"
     ]
    }
   ],
   "source": [
    "fnum = input(\"Please input your first number\")\n",
    "snum = input(\"Please input your second number\")\n",
    "suma = int(fnum) + int(snum)\n",
    "print(fnum,\"+\",snum,\"=\",suma)"
   ]
  },
  {
   "cell_type": "code",
   "execution_count": 67,
   "metadata": {},
   "outputs": [
    {
     "name": "stdout",
     "output_type": "stream",
     "text": [
      "----------分钟转换器----------\n",
      "请输入你的分钟数:1\n",
      "现在天数是第一天, 时间是 0 : 1\n"
     ]
    }
   ],
   "source": [
    "print(\"----------分钟转换器----------\")\n",
    "inputmin = int(input(\"请输入你的分钟数:\"))\n",
    "if inputmin < 0:\n",
    "    print(\"输入错误，请重新输入\")\n",
    "elif inputmin >= 0 and inputmin <= 1440:\n",
    "    hours = int(inputmin) // 60\n",
    "    minutes = int(inputmin) % 60\n",
    "    print(\"现在天数是第一天,\", \"时间是\",hours,\":\",minutes)    \n",
    "else:\n",
    "    day = inputmin // 1440\n",
    "    time = inputmin % 1440\n",
    "    hours = time // 60\n",
    "    minutes = time % 60\n",
    "    print(\"现在天数是第\",day,\"天，\", \"时间是\",hours,\":\",minutes)"
   ]
  },
  {
   "cell_type": "code",
   "execution_count": 77,
   "metadata": {},
   "outputs": [
    {
     "name": "stdout",
     "output_type": "stream",
     "text": [
      "ihgfedcba\n"
     ]
    }
   ],
   "source": [
    "s = 'abcdefghi'\n",
    "print(s[::-1])"
   ]
  },
  {
   "cell_type": "code",
   "execution_count": 52,
   "metadata": {},
   "outputs": [
    {
     "name": "stdout",
     "output_type": "stream",
     "text": [
      "请输入你的分钟数:3\n"
     ]
    },
    {
     "data": {
      "text/plain": [
       "int"
      ]
     },
     "execution_count": 52,
     "metadata": {},
     "output_type": "execute_result"
    }
   ],
   "source": [
    "inputmin = int(input(\"请输入你的分钟数:\"))\n",
    "type(inputmin)"
   ]
  },
  {
   "cell_type": "code",
   "execution_count": 59,
   "metadata": {},
   "outputs": [
    {
     "name": "stdout",
     "output_type": "stream",
     "text": [
      "请输入你的分钟数:3\n"
     ]
    },
    {
     "data": {
      "text/plain": [
       "int"
      ]
     },
     "execution_count": 59,
     "metadata": {},
     "output_type": "execute_result"
    }
   ],
   "source": [
    "inputmin = int(input(\"请输入你的分钟数:\"))\n",
    "type(inputmin)"
   ]
  },
  {
   "cell_type": "code",
   "execution_count": 55,
   "metadata": {},
   "outputs": [
    {
     "name": "stdout",
     "output_type": "stream",
     "text": [
      "-----计算公式b*(1+r/100)^n-----\n",
      "请输入b的值：1\n",
      "请输入r的值：100\n",
      "请输入n的值：1\n",
      "2.0\n"
     ]
    }
   ],
   "source": [
    "print(\"-----计算公式b*(1+r/100)^n-----\")\n",
    "b = float(input(\"请输入b的值：\"))\n",
    "r = float(input(\"请输入r的值：\"))\n",
    "n = float(input(\"请输入n的值：\"))\n",
    "x = b*(1+r/100)**n\n",
    "print(x)\n"
   ]
  },
  {
   "cell_type": "code",
   "execution_count": 63,
   "metadata": {},
   "outputs": [
    {
     "name": "stdout",
     "output_type": "stream",
     "text": [
      "请输入你的分钟数:3\n",
      "3\n"
     ]
    }
   ],
   "source": [
    "inputmin = int(input(\"请输入你的分钟数:\"))\n",
    "type(inputmin)\n",
    "if inputmin > 0:\n",
    "    print(inputmin)"
   ]
  },
  {
   "cell_type": "code",
   "execution_count": 80,
   "metadata": {},
   "outputs": [
    {
     "name": "stdout",
     "output_type": "stream",
     "text": [
      "Hi ByeBye Hi\n"
     ]
    }
   ],
   "source": [
    "a = \"Hi\"\n",
    "b = \"Bye\"\n",
    "print(a,b*2,a)"
   ]
  },
  {
   "cell_type": "code",
   "execution_count": 95,
   "metadata": {},
   "outputs": [
    {
     "name": "stdout",
     "output_type": "stream",
     "text": [
      "2\n"
     ]
    }
   ],
   "source": [
    "#strchr(sStr1,sStr2)\n",
    "# < 0 为未找到\n",
    "sStr1 = 'strchr'\n",
    "sStr2 = 'r'\n",
    "nPos = sStr1.index(sStr2)\n",
    "print (nPos)"
   ]
  },
  {
   "cell_type": "markdown",
   "metadata": {},
   "source": [
    "### 作业，王者荣耀英雄名字链接提取"
   ]
  },
  {
   "cell_type": "code",
   "execution_count": 50,
   "metadata": {},
   "outputs": [],
   "source": [
    "hero = '''<li><a href=\"herodetail/511.shtml\" target=\"_blank\"><img src=\"//game.gtimg.cn/images/yxzj/img201606/heroimg/511/511.jpg\" width=\"91\" height=\"91\" alt=\"猪八戒\">猪八戒</a></li><li><a href=\"herodetail/515.shtml\" target=\"_blank\"><img src=\"//game.gtimg.cn/images/yxzj/img201606/heroimg/515/515.jpg\" width=\"91\" height=\"91\" alt=\"嫦娥\">嫦娥</a></li><li><a href=\"herodetail/513.shtml\" target=\"_blank\"><img src=\"//game.gtimg.cn/images/yxzj/img201606/heroimg/513/513.jpg\" width=\"91\" height=\"91\" alt=\"上官婉儿\">上官婉儿</a></li><li><a href=\"herodetail/507.shtml\" target=\"_blank\"><img src=\"//game.gtimg.cn/images/yxzj/img201606/heroimg/507/507.jpg\" width=\"91\" height=\"91\" alt=\"李信\">李信</a></li>'\n",
    "'''"
   ]
  },
  {
   "cell_type": "code",
   "execution_count": 39,
   "metadata": {},
   "outputs": [
    {
     "name": "stdout",
     "output_type": "stream",
     "text": [
      "//game.gtimg.cn/images/yxzj/img201606/heroimg/511/511.jpg\n",
      "猪八戒\n"
     ]
    }
   ],
   "source": [
    "start_link = hero.find('<img src=\"')\n",
    "start_quote = hero.find('\"',start_link)\n",
    "end_quote = hero.find('\"',start_quote+1)\n",
    "\n",
    "end_bracket = hero.find('>',end_quote+1)\n",
    "start_barcket = hero.find('<',end_bracket+1)\n",
    "\n",
    "print(hero[start_quote+1:end_quote])\n",
    "print(hero[end_bracket+1:start_barcket])\n"
   ]
  },
  {
   "cell_type": "code",
   "execution_count": 62,
   "metadata": {},
   "outputs": [],
   "source": [
    "hero = '<img src=\"//game.gtimg.cn/images/yxzj/img201606/heroimg/511/511.jpg\" \">猪八戒<aaaaaaaaawqddqff!@><img src=\"//game.gtimg.cn/images/yxzj/img201606/heroimg/515/515.jpg\" >嫦娥<<img src=\"//game.gtimg.cn/images/yxzj/img201606/heroimg/513/513.jpg\" >上官婉儿<<img src=\"//game.gtimg.cn/images/yxzj/img201606/heroimg/507/507.jpg\" >李信<'\n",
    "def extract_hero_and_img(current_page):\n",
    "    \n",
    "    start_link = current_page.find('<img src=\"')\n",
    "    start_quote = current_page.find('\"',start_link)\n",
    "    end_quote = current_page.find('\"',start_quote+1)\n",
    "    end_bracket = current_page.find('>',end_quote+1)\n",
    "    start_bracket = current_page.find('<',end_bracket+1)\n",
    "    \n",
    "    print(current_page[start_quote+1:end_quote])\n",
    "    print(current_page[end_bracket+1:start_barcket])\n",
    "    \n",
    "    return start_bracket"
   ]
  },
  {
   "cell_type": "code",
   "execution_count": 63,
   "metadata": {},
   "outputs": [
    {
     "name": "stdout",
     "output_type": "stream",
     "text": [
      "//game.gtimg.cn/images/yxzj/img201606/heroimg/511/511.jpg\n",
      "猪八戒<aaaaaaaaawqddqff!@><img src=\"//game.gtimg.cn/images/yxzj/img201606/heroimg/515/51\n"
     ]
    }
   ],
   "source": [
    "\n",
    "entry_1 = extract_hero_and_img(hero)\n",
    "\n"
   ]
  },
  {
   "cell_type": "code",
   "execution_count": 64,
   "metadata": {},
   "outputs": [
    {
     "name": "stdout",
     "output_type": "stream",
     "text": [
      "//game.gtimg.cn/images/yxzj/img201606/heroimg/515/515.jpg\n",
      "嫦娥<<img src=\"//game.gtimg.cn/images/yxzj/img201606/heroimg/513/513\n"
     ]
    }
   ],
   "source": [
    "hero = hero[entry_1:]\n",
    "entry_2 = extract_hero_and_img(hero)\n"
   ]
  },
  {
   "cell_type": "code",
   "execution_count": 65,
   "metadata": {},
   "outputs": [
    {
     "name": "stdout",
     "output_type": "stream",
     "text": [
      "//game.gtimg.cn/images/yxzj/img201606/heroimg/513/513.jpg\n",
      "上官婉儿<<img src=\"//game.gtimg.cn/images/yxzj/img201606/heroimg/507/507.jpg\" >李信<\n"
     ]
    }
   ],
   "source": [
    "hero = hero[entry_2:]\n",
    "entry_3 = extract_hero_and_img(hero)\n"
   ]
  },
  {
   "cell_type": "code",
   "execution_count": 66,
   "metadata": {},
   "outputs": [
    {
     "name": "stdout",
     "output_type": "stream",
     "text": [
      "//game.gtimg.cn/images/yxzj/img201606/heroimg/507/507.jpg\n",
      "李信<\n"
     ]
    }
   ],
   "source": [
    "hero = hero[entry_3:]\n",
    "entry_4 = extract_hero_and_img(hero)\n"
   ]
  },
  {
   "cell_type": "code",
   "execution_count": 48,
   "metadata": {},
   "outputs": [],
   "source": [
    "from IPython.core.interactiveshell import InteractiveShell\n",
    "InteractiveShell.ast_node_interactivity = \"all\"\n",
    "start_index = 0\n",
    "last_index = 0\n",
    "\n",
    "page_hero = '''<li><a href=\"herodetail/511.shtml\" target=\"_blank\"><img src=\"//game.gtimg.cn/images/yxzj/img201606/heroimg/511/511.jpg\" width=\"91\" height=\"91\" alt=\"猪八戒\">猪八戒</a></li><li><a href=\"herodetail/515.shtml\" target=\"_blank\"><img src=\"//game.gtimg.cn/images/yxzj/img201606/heroimg/515/515.jpg\" width=\"91\" height=\"91\" alt=\"嫦娥\">嫦娥</a></li><li><a href=\"herodetail/513.shtml\" target=\"_blank\"><img src=\"//game.gtimg.cn/images/yxzj/img201606/heroimg/513/513.jpg\" width=\"91\" height=\"91\" alt=\"上官婉儿\">上官婉儿</a></li><li><a href=\"herodetail/507.shtml\" target=\"_blank\"><img src=\"//game.gtimg.cn/images/yxzj/img201606/heroimg/507/507.jpg\" width=\"91\" height=\"91\" alt=\"李信\">李信</a></li>'\n",
    "'''\n",
    "def extract_hero_and_img(current_page):\n",
    "    \n",
    "    start_link = current_page.find('<img src=\"')\n",
    "    start_quote = current_page.find('\"',start_link)\n",
    "    end_quote = current_page.find('\"',start_quote+1)\n",
    "    end_bracket = current_page.find('>',end_quote+1)\n",
    "    start_bracket = current_page.find('<',end_bracket+1)\n",
    "    if current_page[start_quote+1:end_quote].startswith(\"//\"):   \n",
    "        print(current_page[start_quote+1:end_quote])\n",
    "        print(current_page[end_bracket+1:start_barcket])\n",
    "        return start_bracket\n",
    "    else:\n",
    "        return -1"
   ]
  },
  {
   "cell_type": "code",
   "execution_count": 49,
   "metadata": {},
   "outputs": [
    {
     "name": "stdout",
     "output_type": "stream",
     "text": [
      "//game.gtimg.cn/images/yxzj/img201606/heroimg/511/511.jpg\n",
      "猪八戒\n",
      "//game.gtimg.cn/images/yxzj/img201606/heroimg/515/515.jpg\n",
      "\n",
      "//game.gtimg.cn/images/yxzj/img201606/heroimg/513/513.jpg\n",
      "\n",
      "//game.gtimg.cn/images/yxzj/img201606/heroimg/507/507.jpg\n",
      "\n"
     ]
    }
   ],
   "source": [
    "while True:\n",
    "    page_hero = page_hero[last_index:]\n",
    "    last_index = extract_hero_and_img(page_hero)\n",
    "    if last_index == -1:\n",
    "        break;"
   ]
  }
 ],
 "metadata": {
  "kernelspec": {
   "display_name": "Python 3",
   "language": "python",
   "name": "python3"
  },
  "language_info": {
   "codemirror_mode": {
    "name": "ipython",
    "version": 3
   },
   "file_extension": ".py",
   "mimetype": "text/x-python",
   "name": "python",
   "nbconvert_exporter": "python",
   "pygments_lexer": "ipython3",
   "version": "3.7.1"
  }
 },
 "nbformat": 4,
 "nbformat_minor": 2
}
