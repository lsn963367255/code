{
 "cells": [
  {
   "cell_type": "code",
   "execution_count": 27,
   "metadata": {
    "collapsed": true
   },
   "outputs": [
    {
     "name": "stdout",
     "output_type": "stream",
     "text": [
      "                                                                                                                        \n",
      "                                                                                                                        \n",
      "                                                                                                                        \n",
      "                                anlehyuan                      uanlehyua                              \n",
      "                        hyuanlehyuanlehyu      ehyuanlehyuanlehy                      \n",
      "                    ehyuanlehyuanlehyuanlehyuanlehyuanlehyuan                  \n",
      "                  ehyuanlehyuanlehyuanlehyuanlehyuanlehyuanle                \n",
      "                ehyuanlehyuanlehyuanlehyuanlehyuanlehyuanlehy              \n",
      "                hyuanlehyuanlehyuanlehyuanlehyuanlehyuanlehyu              \n",
      "                yuanlehyuanlehyuanlehyuanlehyuanlehyuanlehyua              \n",
      "                uanlehyuanlehyuanlehyuanlehyuanlehyuanlehyuan              \n",
      "                anlehyuanlehyuanlehyuanlehyuanlehyuanlehyuanl              \n",
      "                nlehyuanlehyuanlehyuanlehyuanlehyuanlehyuanle              \n",
      "                  ehyuanlehyuanlehyuanlehyuanlehyuanlehyuanle                \n",
      "                    yuanlehyuanlehyuanlehyuanlehyuanlehyuanle                  \n",
      "                    uanlehyuanlehyuanlehyuanlehyuanlehyuanleh                  \n",
      "                        lehyuanlehyuanlehyuanlehyuanlehyuanle                      \n",
      "                          hyuanlehyuanlehyuanlehyuanlehyuanle                        \n",
      "                            uanlehyuanlehyuanlehyuanlehyuanle                          \n",
      "                                lehyuanlehyuanlehyuanlehyuanl                              \n",
      "                                    yuanlehyuanlehyuanlehyuan                                  \n",
      "                                        nlehyuanlehyuanlehyua                                      \n",
      "                                              yuanlehyuanlehy                                            \n",
      "                                                    lehyuanle                                                  \n",
      "                                                          uan                                                        \n",
      "                                                            n                                                          \n",
      "                                                                                                                        \n",
      "                                                                                                                        \n",
      "                                                                                                                        \n",
      "                                                                                                                        \n"
     ]
    }
   ],
   "source": [
    "print ('\\n'.join([''.join([('yuanlehan!'\n",
    "                          [(x-y)%7]\n",
    "                          if ((x*0.05)**2+(y*0.1)**2-1)**3-(x*0.05)**2*(y*0.1)**3<=0\n",
    "                          else'  ')\n",
    "                         for x in range(-30,30)])\n",
    "                for y in range(15,-15,-1)]))"
   ]
  },
  {
   "cell_type": "code",
   "execution_count": 25,
   "metadata": {
    "scrolled": true
   },
   "outputs": [
    {
     "name": "stdout",
     "output_type": "stream",
     "text": [
      "1*1=1 \n",
      "1*2=2  2*2=4 \n",
      "1*3=3  2*3=6  3*3=9 \n",
      "1*4=4  2*4=8  3*4=12 4*4=16\n",
      "1*5=5  2*5=10 3*5=15 4*5=20 5*5=25\n",
      "1*6=6  2*6=12 3*6=18 4*6=24 5*6=30 6*6=36\n",
      "1*7=7  2*7=14 3*7=21 4*7=28 5*7=35 6*7=42 7*7=49\n",
      "1*8=8  2*8=16 3*8=24 4*8=32 5*8=40 6*8=48 7*8=56 8*8=64\n",
      "1*9=9  2*9=18 3*9=27 4*9=36 5*9=45 6*9=54 7*9=63 8*9=72 9*9=81\n"
     ]
    }
   ],
   "source": [
    "print ('\\n'.join([' '.join(['%s*%s=%-2s' % (y,x,x*y) for y in range(1,x+1)]) for x in range(1,10)]))"
   ]
  },
  {
   "cell_type": "code",
   "execution_count": 38,
   "metadata": {},
   "outputs": [
    {
     "name": "stdout",
     "output_type": "stream",
     "text": [
      "3\n",
      "-2\n"
     ]
    }
   ],
   "source": [
    "def binary_operation(func,op1,op2):\n",
    "    return func(op1,op2)\n",
    "\n",
    "def add(op1,op2):\n",
    "    return op1 + op2\n",
    "\n",
    "def sub(op1,op2):\n",
    "    return op1 - op2\n",
    "\n",
    "print(binary_operation(add,1,2))\n",
    "print(binary_operation(sub,1,3))"
   ]
  },
  {
   "cell_type": "code",
   "execution_count": 46,
   "metadata": {},
   "outputs": [],
   "source": [
    " def exp_factory(n):\n",
    "        def exp(a):\n",
    "            return a**n\n",
    "        return exp"
   ]
  },
  {
   "cell_type": "code",
   "execution_count": 47,
   "metadata": {},
   "outputs": [
    {
     "data": {
      "text/plain": [
       "function"
      ]
     },
     "execution_count": 47,
     "metadata": {},
     "output_type": "execute_result"
    }
   ],
   "source": [
    "square = exp_factory(2)\n",
    "type(square)"
   ]
  },
  {
   "cell_type": "code",
   "execution_count": 48,
   "metadata": {},
   "outputs": [
    {
     "data": {
      "text/plain": [
       "9"
      ]
     },
     "execution_count": 48,
     "metadata": {},
     "output_type": "execute_result"
    }
   ],
   "source": [
    "square(3)"
   ]
  },
  {
   "cell_type": "code",
   "execution_count": 50,
   "metadata": {},
   "outputs": [
    {
     "data": {
      "text/plain": [
       "9"
      ]
     },
     "execution_count": 50,
     "metadata": {},
     "output_type": "execute_result"
    }
   ],
   "source": [
    "exp_factory(2)(3)"
   ]
  },
  {
   "cell_type": "code",
   "execution_count": 52,
   "metadata": {},
   "outputs": [],
   "source": [
    "from time import clock\n",
    "\n",
    "def timer(f):\n",
    "    def _f(*args):\n",
    "        t0 = clock()\n",
    "        f(*args)\n",
    "        return clock() - t0\n",
    "    return _f"
   ]
  },
  {
   "cell_type": "code",
   "execution_count": 54,
   "metadata": {},
   "outputs": [
    {
     "data": {
      "text/plain": [
       "102"
      ]
     },
     "execution_count": 54,
     "metadata": {},
     "output_type": "execute_result"
    }
   ],
   "source": [
    "from functools import reduce\n",
    "f = lambda a,b: a if (a>b) else b\n",
    "reduce(f,[47,11,42,102,13])"
   ]
  },
  {
   "cell_type": "code",
   "execution_count": 55,
   "metadata": {},
   "outputs": [
    {
     "data": {
      "text/plain": [
       "5050"
      ]
     },
     "execution_count": 55,
     "metadata": {},
     "output_type": "execute_result"
    }
   ],
   "source": [
    "reduce(lambda x,y: x+y,range(1,101))"
   ]
  },
  {
   "cell_type": "code",
   "execution_count": 59,
   "metadata": {},
   "outputs": [
    {
     "data": {
      "text/plain": [
       "(<function __main__.<lambda>(x, y)>, range(1, 101))"
      ]
     },
     "execution_count": 59,
     "metadata": {},
     "output_type": "execute_result"
    }
   ],
   "source": []
  }
 ],
 "metadata": {
  "kernelspec": {
   "display_name": "Python 3",
   "language": "python",
   "name": "python3"
  },
  "language_info": {
   "codemirror_mode": {
    "name": "ipython",
    "version": 3
   },
   "file_extension": ".py",
   "mimetype": "text/x-python",
   "name": "python",
   "nbconvert_exporter": "python",
   "pygments_lexer": "ipython3",
   "version": "3.7.1"
  }
 },
 "nbformat": 4,
 "nbformat_minor": 2
}
